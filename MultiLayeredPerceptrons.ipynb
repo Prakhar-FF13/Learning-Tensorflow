{
 "cells": [
  {
   "cell_type": "markdown",
   "metadata": {},
   "source": [
    "# Feed Forward Neural Networks :\n",
    "\n",
    "A fully connected neural network which comprises of n hidden layer and 1 input and 1 output layer.\n",
    "\n",
    "** Types: **\n",
    "1. Multi-Layer Perceptrons.\n",
    "2. Deep Belief Networks.\n",
    "3. Stacked AutoEncoders."
   ]
  },
  {
   "cell_type": "code",
   "execution_count": 1,
   "metadata": {},
   "outputs": [
    {
     "name": "stderr",
     "output_type": "stream",
     "text": [
      "C:\\Users\\Prakhar\\Anaconda3\\lib\\site-packages\\h5py\\__init__.py:36: FutureWarning: Conversion of the second argument of issubdtype from `float` to `np.floating` is deprecated. In future, it will be treated as `np.float64 == np.dtype(float).type`.\n",
      "  from ._conv import register_converters as _register_converters\n"
     ]
    },
    {
     "name": "stdout",
     "output_type": "stream",
     "text": [
      "[name: \"/device:CPU:0\"\n",
      "device_type: \"CPU\"\n",
      "memory_limit: 268435456\n",
      "locality {\n",
      "}\n",
      "incarnation: 13488880805328774243\n",
      "]\n"
     ]
    }
   ],
   "source": [
    "import numpy as np\n",
    "import pandas as pd\n",
    "import matplotlib.pyplot as plt\n",
    "import seaborn as sns\n",
    "import scipy\n",
    "import tensorflow as tf\n",
    "from tensorflow.python.client import device_lib \n",
    "from tqdm import tqdm # This will be used to get the time taken taken for each epoch.\n",
    "print(device_lib.list_local_devices())"
   ]
  },
  {
   "cell_type": "markdown",
   "metadata": {},
   "source": [
    "#### Getting the data :"
   ]
  },
  {
   "cell_type": "code",
   "execution_count": 2,
   "metadata": {},
   "outputs": [],
   "source": [
    "from tensorflow.examples.tutorials.mnist import input_data"
   ]
  },
  {
   "cell_type": "code",
   "execution_count": 3,
   "metadata": {},
   "outputs": [
    {
     "name": "stdout",
     "output_type": "stream",
     "text": [
      "WARNING:tensorflow:From <ipython-input-3-139008f84df9>:7: read_data_sets (from tensorflow.contrib.learn.python.learn.datasets.mnist) is deprecated and will be removed in a future version.\n",
      "Instructions for updating:\n",
      "Please use alternatives such as official/mnist/dataset.py from tensorflow/models.\n",
      "WARNING:tensorflow:From C:\\Users\\Prakhar\\Anaconda3\\lib\\site-packages\\tensorflow\\contrib\\learn\\python\\learn\\datasets\\mnist.py:260: maybe_download (from tensorflow.contrib.learn.python.learn.datasets.base) is deprecated and will be removed in a future version.\n",
      "Instructions for updating:\n",
      "Please write your own downloading logic.\n",
      "WARNING:tensorflow:From C:\\Users\\Prakhar\\Anaconda3\\lib\\site-packages\\tensorflow\\contrib\\learn\\python\\learn\\datasets\\mnist.py:262: extract_images (from tensorflow.contrib.learn.python.learn.datasets.mnist) is deprecated and will be removed in a future version.\n",
      "Instructions for updating:\n",
      "Please use tf.data to implement this functionality.\n",
      "Extracting FFNN/train-images-idx3-ubyte.gz\n",
      "WARNING:tensorflow:From C:\\Users\\Prakhar\\Anaconda3\\lib\\site-packages\\tensorflow\\contrib\\learn\\python\\learn\\datasets\\mnist.py:267: extract_labels (from tensorflow.contrib.learn.python.learn.datasets.mnist) is deprecated and will be removed in a future version.\n",
      "Instructions for updating:\n",
      "Please use tf.data to implement this functionality.\n",
      "Extracting FFNN/train-labels-idx1-ubyte.gz\n",
      "WARNING:tensorflow:From C:\\Users\\Prakhar\\Anaconda3\\lib\\site-packages\\tensorflow\\contrib\\learn\\python\\learn\\datasets\\mnist.py:110: dense_to_one_hot (from tensorflow.contrib.learn.python.learn.datasets.mnist) is deprecated and will be removed in a future version.\n",
      "Instructions for updating:\n",
      "Please use tf.one_hot on tensors.\n",
      "Extracting FFNN/t10k-images-idx3-ubyte.gz\n",
      "Extracting FFNN/t10k-labels-idx1-ubyte.gz\n",
      "WARNING:tensorflow:From C:\\Users\\Prakhar\\Anaconda3\\lib\\site-packages\\tensorflow\\contrib\\learn\\python\\learn\\datasets\\mnist.py:290: DataSet.__init__ (from tensorflow.contrib.learn.python.learn.datasets.mnist) is deprecated and will be removed in a future version.\n",
      "Instructions for updating:\n",
      "Please use alternatives such as official/mnist/dataset.py from tensorflow/models.\n"
     ]
    }
   ],
   "source": [
    "# Saving images to file in HDD..\n",
    "import os\n",
    "path = \"FFNN/\"\n",
    "if not os.path.exists(path):\n",
    "    os.makedirs(path)\n",
    "    \n",
    "inp_data = input_data.read_data_sets(path, one_hot=True)"
   ]
  },
  {
   "cell_type": "code",
   "execution_count": 4,
   "metadata": {},
   "outputs": [
    {
     "name": "stdout",
     "output_type": "stream",
     "text": [
      "(55000, 784)\n",
      "(55000, 10)\n",
      "(10000, 784)\n",
      "(10000, 10)\n"
     ]
    }
   ],
   "source": [
    "print(inp_data.train.images.shape)\n",
    "print(inp_data.train.labels.shape)\n",
    "print(inp_data.test.images.shape)\n",
    "print(inp_data.test.labels.shape)"
   ]
  },
  {
   "cell_type": "markdown",
   "metadata": {},
   "source": [
    "#### Visualize a single image :"
   ]
  },
  {
   "cell_type": "code",
   "execution_count": 5,
   "metadata": {},
   "outputs": [
    {
     "name": "stdout",
     "output_type": "stream",
     "text": [
      "[0. 0. 0. 0. 0. 0. 0. 1. 0. 0.]\n"
     ]
    }
   ],
   "source": [
    "img = inp_data.train.images[0]\n",
    "img = np.resize(img, (28,28))\n",
    "lab = inp_data.train.labels[0]\n",
    "print(lab)"
   ]
  },
  {
   "cell_type": "code",
   "execution_count": 6,
   "metadata": {},
   "outputs": [
    {
     "data": {
      "image/png": "[encoded data removed]",
      "text/plain": [
       "<Figure size 432x288 with 1 Axes>"
      ]
     },
     "metadata": {},
     "output_type": "display_data"
    }
   ],
   "source": [
    "plt.imshow(img, cmap='Greys_r')\n",
    "plt.show()"
   ]
  },
  {
   "cell_type": "markdown",
   "metadata": {},
   "source": [
    "## Building neural networks :"
   ]
  },
  {
   "cell_type": "markdown",
   "metadata": {},
   "source": [
    "### A) Five Layer Neural Network :\n",
    "\n",
    "1. Layer one - 200 Neurons Sigmoid act.\n",
    "2. Layer two - 100 Neurons Sigmoid act.\n",
    "3. Layer three - 60 Neurons Sigmoid act.\n",
    "4. Layer four - 30 Neurons Sigmoid act.\n",
    "5. Layer five - 10 Neurons Softmax."
   ]
  },
  {
   "cell_type": "code",
   "execution_count": 7,
   "metadata": {},
   "outputs": [],
   "source": [
    "import math\n",
    "from tensorflow.python.framework import ops\n",
    "import random"
   ]
  },
  {
   "cell_type": "code",
   "execution_count": 8,
   "metadata": {},
   "outputs": [
    {
     "name": "stdout",
     "output_type": "stream",
     "text": [
      "Extracting FFNN/train-images-idx3-ubyte.gz\n",
      "Extracting FFNN/train-labels-idx1-ubyte.gz\n",
      "Extracting FFNN/t10k-images-idx3-ubyte.gz\n",
      "Extracting FFNN/t10k-labels-idx1-ubyte.gz\n"
     ]
    }
   ],
   "source": [
    "logs_path = 'log_sigmoid/' # logging path\n",
    "batch_size = 100 # batch size while performing training \n",
    "learning_rate = 0.003 # Learning rate \n",
    "training_epochs = 10 # training epoch\n",
    "display_epoch = 1\n",
    "mnist = input_data.read_data_sets(path, one_hot=True)"
   ]
  },
  {
   "cell_type": "markdown",
   "metadata": {},
   "source": [
    "#### Building the input layer :\n",
    "\n",
    "Input layer a 2d tensor which consist of n samples, each sample has 784 dimensions. Since the number of samples in training dataset can vary, we specify variable number of rows using the \"None\" option when declaring shape of tensor. Also the tensor which will hold the train data will be a placeholder as it does not need any modification."
   ]
  },
  {
   "cell_type": "code",
   "execution_count": 9,
   "metadata": {},
   "outputs": [],
   "source": [
    "X = tf.placeholder(tf.float32, [None, 784], name=\"InputData\") # tensor of input data of size n*784 dimensions\n",
    "XX = tf.reshape(X, [-1, 784]) # -1 is to transpose\n",
    "Y_ = tf.placeholder(tf.float32, [None, 10], name=\"LabelData\") # tensor of labels of size n*784"
   ]
  },
  {
   "cell_type": "markdown",
   "metadata": {},
   "source": [
    "#### Building the first Layer :\n",
    "\n",
    "Each node in the first layer recieves the pixels of the image combined with the weights and bias term. This layer contains 200 Neurons.\n",
    "\n",
    "Each node recieves the input as - inp = w(transpose) * x + b"
   ]
  },
  {
   "cell_type": "code",
   "execution_count": 10,
   "metadata": {},
   "outputs": [],
   "source": [
    "L = 200\n",
    "# Since the data is 784 dimensional there must be 784 weights and 1 bias.\n",
    "W1 = tf.Variable(tf.truncated_normal([784, L], stddev=0.1)) # initializing random weights for layer 1.\n",
    "B1 = tf.Variable(tf.zeros([L])) # Bias vector for layer 2.\n",
    "\n",
    "# The output is calculated as wtranspose * x + b or xtranspose * w + b and then sigmoid function is applied on it.\n",
    "Y1 = tf.nn.sigmoid(tf.matmul(XX, W1) + B1)"
   ]
  },
  {
   "cell_type": "markdown",
   "metadata": {},
   "source": [
    "#### Building the second Layer :\n",
    "\n",
    "The second layer recieves as input the output of previous layer that is Y1. And again multiples the Y1 with weights and adds a bias term to generate output."
   ]
  },
  {
   "cell_type": "code",
   "execution_count": 11,
   "metadata": {},
   "outputs": [],
   "source": [
    "M = 100\n",
    "\n",
    "W2 = tf.Variable(tf.truncated_normal([L, M], stddev=0.1)) # initializing random weights for layer 2.\n",
    "B2 = tf.Variable(tf.zeros([M])) # Bias vector for layer 2.\n",
    "\n",
    "# The output now -\n",
    "Y2 = tf.nn.sigmoid(tf.matmul(Y1, W2) + B2)"
   ]
  },
  {
   "cell_type": "markdown",
   "metadata": {},
   "source": [
    "#### Building the third layer:"
   ]
  },
  {
   "cell_type": "code",
   "execution_count": 12,
   "metadata": {},
   "outputs": [],
   "source": [
    "N = 60\n",
    "W3 = tf.Variable(tf.truncated_normal([M, N], stddev=0.1)) # Initialize random weights for the hidden layer 3 \n",
    "B3 = tf.Variable(tf.zeros([N])) # Bias vector for layer 3\n",
    "\n",
    "Y3 = tf.nn.sigmoid(tf.matmul(Y2, W3) + B3) # Output from layer 3"
   ]
  },
  {
   "cell_type": "markdown",
   "metadata": {},
   "source": [
    "#### Building the fourth layer :"
   ]
  },
  {
   "cell_type": "code",
   "execution_count": 13,
   "metadata": {},
   "outputs": [],
   "source": [
    "O = 30\n",
    "W4 = tf.Variable(tf.truncated_normal([N, O], stddev=0.1)) # Initialize random weights for the hidden layer 4\n",
    "B4 = tf.Variable(tf.zeros([O])) # Bias vector for layer 4\n",
    "\n",
    "Y4 = tf.nn.sigmoid(tf.matmul(Y3, W4) + B4) # Output from layer 4"
   ]
  },
  {
   "cell_type": "markdown",
   "metadata": {},
   "source": [
    "#### Building the fifth layer:"
   ]
  },
  {
   "cell_type": "code",
   "execution_count": 14,
   "metadata": {},
   "outputs": [],
   "source": [
    "W5 = tf.Variable(tf.truncated_normal([O, 10], stddev=0.1)) # Initialize random weights for the hidden layer 5 \n",
    "B5 = tf.Variable(tf.zeros([10])) # Bias vector for layer 5\n",
    "Ylogits = tf.matmul(Y4, W5) + B5 # computing the logits\n",
    "Y = tf.nn.softmax(Ylogits)# output from layer 5"
   ]
  },
  {
   "cell_type": "code",
   "execution_count": 15,
   "metadata": {},
   "outputs": [
    {
     "name": "stdout",
     "output_type": "stream",
     "text": [
      "WARNING:tensorflow:From <ipython-input-15-866b75129e90>:2: softmax_cross_entropy_with_logits (from tensorflow.python.ops.nn_ops) is deprecated and will be removed in a future version.\n",
      "Instructions for updating:\n",
      "\n",
      "Future major versions of TensorFlow will allow gradients to flow\n",
      "into the labels input on backprop by default.\n",
      "\n",
      "See `tf.nn.softmax_cross_entropy_with_logits_v2`.\n",
      "\n"
     ]
    }
   ],
   "source": [
    "# Cross entropy is basically our logistics loss for multiclass.\n",
    "cross_entropy = tf.nn.softmax_cross_entropy_with_logits(logits=Ylogits, labels=Y_) # final outcome using softmax cross entropy\n",
    "cost_op = tf.reduce_mean(cross_entropy)*100"
   ]
  },
  {
   "cell_type": "code",
   "execution_count": 16,
   "metadata": {},
   "outputs": [],
   "source": [
    "# Prediction is correct if output is equal to actual Y_ is actual, Y is predicted\n",
    "correct_prediction = tf.equal(tf.argmax(Y, 1), tf.argmax(Y_, 1))\n",
    "accuracy = tf.reduce_mean(tf.cast(correct_prediction, tf.float32))"
   ]
  },
  {
   "cell_type": "markdown",
   "metadata": {},
   "source": [
    "#### Training :"
   ]
  },
  {
   "cell_type": "code",
   "execution_count": 17,
   "metadata": {},
   "outputs": [],
   "source": [
    "train_op = tf.train.AdamOptimizer(learning_rate).minimize(cost_op)"
   ]
  },
  {
   "cell_type": "code",
   "execution_count": 18,
   "metadata": {},
   "outputs": [],
   "source": [
    "# Create a summary to monitor cost tensor\n",
    "tf.summary.scalar(\"cost\", cost_op)\n",
    "# Create a summary to monitor accuracy tensor\n",
    "tf.summary.scalar(\"accuracy\", accuracy)\n",
    "# Merge all summaries into a single op\n",
    "summary_op = tf.summary.merge_all()"
   ]
  },
  {
   "cell_type": "code",
   "execution_count": 19,
   "metadata": {},
   "outputs": [
    {
     "name": "stdout",
     "output_type": "stream",
     "text": [
      "Epoch:  0\n",
      "Epoch:  1\n",
      "Epoch:  2\n",
      "Epoch:  3\n",
      "Epoch:  4\n",
      "Epoch:  5\n",
      "Epoch:  6\n",
      "Epoch:  7\n",
      "Epoch:  8\n",
      "Epoch:  9\n",
      "Optimization Finished!\n",
      "Accuracy:  0.9742\n"
     ]
    }
   ],
   "source": [
    "init = tf.global_variables_initializer()\n",
    "sess = tf.Session()\n",
    "sess.run(init)\n",
    "with tf.Session() as sess:\n",
    "    # Run the initializer\n",
    "    sess.run(tf.global_variables_initializer())\n",
    "    \n",
    "    # op to write logs to TensorBoard\n",
    "    writer = tf.summary.FileWriter(logs_path, graph=tf.get_default_graph())\n",
    "    \n",
    "    for epoch in range(training_epochs):\n",
    "        # Get total number of batches..\n",
    "        batch_count = int(mnist.train.num_examples/batch_size)\n",
    "        for i in range(batch_count):\n",
    "            # Get data of current batch..\n",
    "            batch_x, batch_y = mnist.train.next_batch(batch_size)\n",
    "            # feed_dict parameter is used to pass data to tf.Variable\n",
    "            _,summary = sess.run([train_op, summary_op], feed_dict={X: batch_x, Y_: batch_y})\n",
    "            # Write data to be displayed by tensorboard..\n",
    "            writer.add_summary(summary, epoch * batch_count + i)\n",
    "               \n",
    "        print(\"Epoch: \", epoch)\n",
    "        \n",
    "    print(\"Optimization Finished!\")\n",
    "    print(\"Accuracy: \", accuracy.eval(feed_dict={X: mnist.test.images, Y_: mnist.test.labels}))\n",
    "    sess.close()"
   ]
  },
  {
   "cell_type": "markdown",
   "metadata": {},
   "source": [
    "### B) Multi-Layer Perceptron : \n",
    "\n",
    "1. Also a Feed Forward Neural Network.\n",
    "2. Completely Connected.\n",
    "3. Can be used for classification and regression."
   ]
  },
  {
   "cell_type": "markdown",
   "metadata": {},
   "source": [
    "#### Network Parameters\n",
    "1. n_hidden_1 = 512 # 1st layer number of neurons\n",
    "2. n_hidden_2 = 128 # 2nd layer number of neurons\n",
    "3. n_input = 784 # MNIST data input (img shape: 28*28)\n",
    "4. n_classes = 10 # MNIST total classes (0-9 digits)"
   ]
  },
  {
   "cell_type": "code",
   "execution_count": 20,
   "metadata": {},
   "outputs": [],
   "source": [
    "# Input layer placeholders :\n",
    "X = tf.placeholder(tf.float32, [None, 784])\n",
    "Y_true = tf.placeholder(tf.float32, [None, 10])"
   ]
  },
  {
   "cell_type": "code",
   "execution_count": 21,
   "metadata": {},
   "outputs": [],
   "source": [
    "# Layer Weights and Biases :\n",
    "\n",
    "weights = {\n",
    "    'w1' : tf.Variable(tf.random_normal([784, 512], stddev=0.039, mean=0)), # No. of weights=neuron in input * nuerons in hidden \n",
    "    'w2' : tf.Variable(tf.random_normal([512, 128], stddev=0.052, mean=0)),\n",
    "    'w3' : tf.Variable(tf.random_normal([128, 10] , stddev=0.120, mean=0)) # Output layer weights\n",
    "}\n",
    "\n",
    "biases = {\n",
    "    'b1' : tf.Variable(tf.random_normal([512])), # No. of biases = No. of neurons in next layer\n",
    "    'b2' : tf.Variable(tf.random_normal([128])),\n",
    "    'b3' : tf.Variable(tf.random_normal([10]))\n",
    "}"
   ]
  },
  {
   "cell_type": "code",
   "execution_count": 22,
   "metadata": {},
   "outputs": [],
   "source": [
    "# defining the architecture:\n",
    "def MultilayerPerceptron(X, w, b):\n",
    "    \n",
    "    # First hidden layer takes input (x*W + B) (input layer has n*784 shape, 1st hidden layer has 784*512 shape)\n",
    "    # x*w will give n*512, x*w + b is also n*512 shape. sigmoid is applied on this and output is generated which is fed as \n",
    "    # input to next layer.\n",
    "    layer_1 = tf.nn.sigmoid( tf.add( tf.matmul(X, w['w1']), b['b1'] ) )\n",
    "    \n",
    "    # Layer 2 recives input as output_layer_1 * w2 + b, sigmoid is applied on it and output is generated.\n",
    "    layer_2 = tf.nn.sigmoid( tf.add( tf.matmul(layer_1, w['w2']), b['b2'] ) )\n",
    "    \n",
    "    # Layer 3 i.e output layer...\n",
    "    layer_3 = tf.nn.sigmoid( tf.add( tf.matmul(layer_2, w['w3']), b['b3'] ) )\n",
    "    \n",
    "    return layer_3"
   ]
  },
  {
   "cell_type": "code",
   "execution_count": 23,
   "metadata": {},
   "outputs": [
    {
     "name": "stderr",
     "output_type": "stream",
     "text": [
      "100%|██████████████████████████████████████████████████████████████████████████████████| 55/55 [00:28<00:00,  1.92it/s]\n"
     ]
    },
    {
     "name": "stdout",
     "output_type": "stream",
     "text": [
      "Epoch:  01   Train error=1.702872565   Test error=1.702350998\n"
     ]
    },
    {
     "name": "stderr",
     "output_type": "stream",
     "text": [
      "100%|██████████████████████████████████████████████████████████████████████████████████| 55/55 [00:27<00:00,  2.04it/s]\n"
     ]
    },
    {
     "name": "stdout",
     "output_type": "stream",
     "text": [
      "Epoch:  02   Train error=1.516799851   Test error=1.517643319\n"
     ]
    },
    {
     "name": "stderr",
     "output_type": "stream",
     "text": [
      "100%|██████████████████████████████████████████████████████████████████████████████████| 55/55 [00:25<00:00,  2.40it/s]\n"
     ]
    },
    {
     "name": "stdout",
     "output_type": "stream",
     "text": [
      "Epoch:  03   Train error=1.496692014   Test error=1.500413697\n"
     ]
    },
    {
     "name": "stderr",
     "output_type": "stream",
     "text": [
      "100%|██████████████████████████████████████████████████████████████████████████████████| 55/55 [00:25<00:00,  2.37it/s]\n"
     ]
    },
    {
     "name": "stdout",
     "output_type": "stream",
     "text": [
      "Epoch:  04   Train error=1.486276516   Test error=1.492190216\n"
     ]
    },
    {
     "name": "stderr",
     "output_type": "stream",
     "text": [
      "100%|██████████████████████████████████████████████████████████████████████████████████| 55/55 [00:24<00:00,  2.02it/s]\n"
     ]
    },
    {
     "name": "stdout",
     "output_type": "stream",
     "text": [
      "Epoch:  05   Train error=1.480616021   Test error=1.488721772\n"
     ]
    },
    {
     "name": "stderr",
     "output_type": "stream",
     "text": [
      "100%|██████████████████████████████████████████████████████████████████████████████████| 55/55 [00:26<00:00,  2.38it/s]\n"
     ]
    },
    {
     "name": "stdout",
     "output_type": "stream",
     "text": [
      "Epoch:  06   Train error=1.476141544   Test error=1.485375896\n"
     ]
    },
    {
     "name": "stderr",
     "output_type": "stream",
     "text": [
      "100%|██████████████████████████████████████████████████████████████████████████████████| 55/55 [00:23<00:00,  2.40it/s]\n"
     ]
    },
    {
     "name": "stdout",
     "output_type": "stream",
     "text": [
      "Epoch:  07   Train error=1.473176135   Test error=1.483829004\n"
     ]
    },
    {
     "name": "stderr",
     "output_type": "stream",
     "text": [
      "100%|██████████████████████████████████████████████████████████████████████████████████| 55/55 [00:24<00:00,  2.39it/s]\n"
     ]
    },
    {
     "name": "stdout",
     "output_type": "stream",
     "text": [
      "Epoch:  08   Train error=1.471330296   Test error=1.483006558\n"
     ]
    },
    {
     "name": "stderr",
     "output_type": "stream",
     "text": [
      "100%|██████████████████████████████████████████████████████████████████████████████████| 55/55 [00:24<00:00,  2.38it/s]\n"
     ]
    },
    {
     "name": "stdout",
     "output_type": "stream",
     "text": [
      "Epoch:  09   Train error=1.469052183   Test error=1.481966296\n"
     ]
    },
    {
     "name": "stderr",
     "output_type": "stream",
     "text": [
      "100%|██████████████████████████████████████████████████████████████████████████████████| 55/55 [00:23<00:00,  2.39it/s]\n"
     ]
    },
    {
     "name": "stdout",
     "output_type": "stream",
     "text": [
      "Epoch:  10   Train error=1.467603278   Test error=1.481364161\n"
     ]
    },
    {
     "name": "stderr",
     "output_type": "stream",
     "text": [
      "100%|██████████████████████████████████████████████████████████████████████████████████| 55/55 [00:23<00:00,  2.39it/s]\n"
     ]
    },
    {
     "name": "stdout",
     "output_type": "stream",
     "text": [
      "Epoch:  11   Train error=1.466791101   Test error=1.481287226\n"
     ]
    },
    {
     "name": "stderr",
     "output_type": "stream",
     "text": [
      "100%|██████████████████████████████████████████████████████████████████████████████████| 55/55 [00:24<00:00,  1.77it/s]\n"
     ]
    },
    {
     "name": "stdout",
     "output_type": "stream",
     "text": [
      "Epoch:  12   Train error=1.466032434   Test error=1.481129846\n"
     ]
    },
    {
     "name": "stderr",
     "output_type": "stream",
     "text": [
      "100%|██████████████████████████████████████████████████████████████████████████████████| 55/55 [00:27<00:00,  2.01it/s]\n"
     ]
    },
    {
     "name": "stdout",
     "output_type": "stream",
     "text": [
      "Epoch:  13   Train error=1.465409047   Test error=1.480799320\n"
     ]
    },
    {
     "name": "stderr",
     "output_type": "stream",
     "text": [
      "100%|██████████████████████████████████████████████████████████████████████████████████| 55/55 [00:25<00:00,  2.12it/s]\n"
     ]
    },
    {
     "name": "stdout",
     "output_type": "stream",
     "text": [
      "Epoch:  14   Train error=1.464746107   Test error=1.480638071\n"
     ]
    },
    {
     "name": "stderr",
     "output_type": "stream",
     "text": [
      "100%|██████████████████████████████████████████████████████████████████████████████████| 55/55 [00:26<00:00,  2.39it/s]\n"
     ]
    },
    {
     "name": "stdout",
     "output_type": "stream",
     "text": [
      "Epoch:  15   Train error=1.464459593   Test error=1.480768238\n",
      "Accuracy :  0.98\n"
     ]
    }
   ],
   "source": [
    "# Get predictions\n",
    "predictions = MultilayerPerceptron(X, weights, biases)\n",
    "\n",
    "# Calculate Multiclass Logistsics Loss using labels and predictions\n",
    "loss = tf.reduce_mean(tf.nn.softmax_cross_entropy_with_logits_v2(logits=predictions, labels=Y_true))\n",
    "\n",
    "# Reduce the loss using AdamOptimizer..\n",
    "optimizer = tf.train.AdamOptimizer(learning_rate=0.01).minimize(loss)\n",
    "\n",
    "# Run multiple epochs :\n",
    "with tf.Session() as sess:\n",
    "    # This is similar to declaring variables to be used.\n",
    "    sess.run(tf.global_variables_initializer())\n",
    "    \n",
    "    # For plotting we store error for train and test for each epoch\n",
    "    train_error = []\n",
    "    test_error = []\n",
    "    epoch_counter = []\n",
    "    # Select batch size and compute total number of batches in the epoch.\n",
    "    batch_size = 1000\n",
    "    total_batches = int(mnist.train.num_examples/batch_size)\n",
    "    \n",
    "    # Define number of epochs.\n",
    "    num_epochs = 15\n",
    "    \n",
    "    \n",
    "    for epoch in range(num_epochs):\n",
    "        train_avg_cost = 0.0\n",
    "        test_avg_cost = 0.0\n",
    "        batchnum = 0\n",
    "        for i in tqdm(range(total_batches)):\n",
    "            batch_x, batch_y = mnist.train.next_batch(batch_size)\n",
    "            # Run the optimizer for this batch calculate errors and store in the list. It also returns train error (loss)\n",
    "            sess.run(optimizer, feed_dict={X: batch_x, Y_true: batch_y})\n",
    "            loss_batch = sess.run(loss, feed_dict={X: batch_x, Y_true: batch_y})\n",
    "            train_avg_cost += loss_batch/total_batches\n",
    "            \n",
    "            # Compute loss for test set\n",
    "            loss_test = sess.run(loss, feed_dict={X: mnist.test.images, Y_true: mnist.test.labels})\n",
    "            test_avg_cost += loss_test/total_batches\n",
    "            \n",
    "        if(epoch % 1 == 0):\n",
    "            print(\"Epoch: \", \"%02d\" % (epoch+1),\"  Train error={:.9f}\".format(train_avg_cost),\"  Test error={:.9f}\".format(test_avg_cost))\n",
    "        # Append losses for this current epoch\n",
    "        train_error.append(train_avg_cost)\n",
    "        test_error.append(test_avg_cost)\n",
    "        epoch_counter.append(epoch)\n",
    "        \n",
    "    # Get final accuracy on test after training ...\n",
    "    l1_w = weights['w1'].eval()\n",
    "    l2_w = weights['w2'].eval()\n",
    "    l3_w = weights['w3'].eval()\n",
    "    \n",
    "    correct_predictions = tf.equal( tf.argmax(predictions, 1), tf.argmax(Y_true, 1) )\n",
    "    accuracy = tf.reduce_mean( tf.cast(correct_predictions, tf.float32) )\n",
    "    # accuracy.eval is similar to sess.run(accuracy)\n",
    "    print(\"Accuracy : \", accuracy.eval(feed_dict={X: mnist.test.images, Y_true: mnist.test.labels}) )\n",
    "    sess.close()"
   ]
  },
  {
   "cell_type": "code",
   "execution_count": 24,
   "metadata": {},
   "outputs": [
    {
     "data": {
      "image/png": "[encoded data removed]",
      "text/plain": [
       "<Figure size 1008x360 with 1 Axes>"
      ]
     },
     "metadata": {},
     "output_type": "display_data"
    }
   ],
   "source": [
    "# display training and test accuracy curves vs epochs..\n",
    "plt.figure(figsize=(14,5))\n",
    "plt.title(\"Epoch vs Loss\")\n",
    "plt.ylabel(\"SoftMax Cross Entropy Loss\")\n",
    "plt.xlabel(\"Number of Epochs\")\n",
    "plt.plot(epoch_counter, train_error, label=\"Train Loss\")\n",
    "plt.plot(epoch_counter, test_error, label=\"Test Loss\")\n",
    "plt.legend()\n",
    "plt.show()"
   ]
  },
  {
   "cell_type": "code",
   "execution_count": 25,
   "metadata": {},
   "outputs": [],
   "source": [
    "# Sometime a neural net can suffer from vanishing gradient or exploding gradient problem..\n",
    "# We need to check the weights to see if this is the case with out neural network..\n",
    "l1_w = l1_w.flatten().reshape(-1, 1)\n",
    "l2_w = l2_w.flatten().reshape(-1, 1)\n",
    "l3_w = l3_w.flatten().reshape(-1, 1)"
   ]
  },
  {
   "cell_type": "code",
   "execution_count": 26,
   "metadata": {},
   "outputs": [
    {
     "name": "stderr",
     "output_type": "stream",
     "text": [
      "C:\\Users\\Prakhar\\Anaconda3\\lib\\site-packages\\scipy\\stats\\stats.py:1713: FutureWarning: Using a non-tuple sequence for multidimensional indexing is deprecated; use `arr[tuple(seq)]` instead of `arr[seq]`. In the future this will be interpreted as an array index, `arr[np.array(seq)]`, which will result either in an error or a different result.\n",
      "  return np.add.reduce(sorted[indexer] * weights, axis=axis) / sumval\n"
     ]
    },
    {
     "data": {
      "image/png": "[encoded data removed]",
      "text/plain": [
       "<Figure size 1080x360 with 3 Axes>"
      ]
     },
     "metadata": {},
     "output_type": "display_data"
    }
   ],
   "source": [
    "fig, (ax1, ax2, ax3) = plt.subplots(nrows=1, ncols=3, figsize=(15,5))\n",
    "ax1.set_title(\"Layer 1 Matrix Weight\")\n",
    "sns.violinplot(y=l1_w, color = 'b', ax=ax1)\n",
    "\n",
    "ax2.set_title(\"Layer 2 Matrix Weight\")\n",
    "sns.violinplot(y=l2_w, color = 'r', ax=ax2)\n",
    "\n",
    "ax3.set_title(\"Layer 3 Matrix Weight\")\n",
    "sns.violinplot(y=l3_w, color = 'y', ax=ax3)\n",
    "\n",
    "plt.show()"
   ]
  },
  {
   "cell_type": "markdown",
   "metadata": {},
   "source": [
    "> The weights seem alright they dont seem to be too small and they certainly arent that big. So i think we have trained our model just okay, no problem of vanishing gradient or exploding gradient."
   ]
  },
  {
   "cell_type": "markdown",
   "metadata": {},
   "source": [
    "### C) MLP with Batch Normalization :\n",
    "1. One input layer 784 dimensional.\n",
    "2. Hidden with sigmoid and batch normalization 512 dimensional.\n",
    "3. Hidden with sigmoid and batch normalization 128 dimensional.\n",
    "4. Output Layer with 10 dimensions.\n",
    "\n",
    "** Note - ** Batch Normalization happens before the input w(transpose) * x + b is fed to the neuron.\n",
    "\n",
    "** Understand BatchNormalization Here - ** https://towardsdatascience.com/batch-normalization-theory-and-how-to-use-it-with-tensorflow-1892ca0173ad"
   ]
  },
  {
   "cell_type": "code",
   "execution_count": 27,
   "metadata": {},
   "outputs": [],
   "source": [
    "weights = {\n",
    "    'h1': tf.Variable(tf.random_normal([784, 512],stddev=0.039, mean=0)),    #784x512 # sqrt(2/(784+512)) = 0.039\n",
    "    'h2': tf.Variable(tf.random_normal([512, 128],stddev=0.055, mean=0)), #512x128 # sqrt(2/(512+128)) = 0.055\n",
    "    'out': tf.Variable(tf.random_normal([128, 10],stddev=0.120, mean=0))  #128x10\n",
    "}\n",
    "\n",
    "biases = {\n",
    "    'b1': tf.Variable(tf.random_normal([512])),             #512x1\n",
    "    'b2': tf.Variable(tf.random_normal([128])),             #128x1\n",
    "    'out': tf.Variable(tf.random_normal([10]))              #10x1\n",
    "}"
   ]
  },
  {
   "cell_type": "code",
   "execution_count": 28,
   "metadata": {},
   "outputs": [],
   "source": [
    "epsilon = 1e-3\n",
    "def BatchNormalizedPerceptron(X, weights, biases):\n",
    "    # Creating Layer 1..\n",
    "    layer_1 = tf.add( tf.matmul(X, weights['h1']), biases['b1'] )\n",
    "    \n",
    "    # Calculating the mean and variance of weights to apply batch normalization..\n",
    "    # tf.nn.moments calculates the mean and variance of the tensor passed.\n",
    "    mean_1, var_1 = tf.nn.moments(layer_1, [0]) # [0] gives the axis i.e the column wise mean and variance.\n",
    "    \n",
    "    # Parameters for batch normalization\n",
    "    scale_1 = tf.Variable(tf.ones([512]))\n",
    "    beta_1 = tf.Variable(tf.zeros([512]))\n",
    "    \n",
    "    # Apply batch normalization now..\n",
    "    layer_1 = tf.nn.batch_normalization(layer_1, mean_1, var_1, beta_1, scale_1, epsilon)\n",
    "    layer_1 = tf.nn.sigmoid(layer_1)\n",
    "    \n",
    "    #____________________________________________________________________________________________________________\n",
    "    \n",
    "    layer_2 = tf.add( tf.matmul(layer_1, weights['h2']), biases['b2'] )\n",
    "    \n",
    "    # Calculating the mean and variance of weights to apply batch normalization..\n",
    "    # tf.nn.moments calculates the mean and variance of the tensor passed.\n",
    "    mean_2, var_2 = tf.nn.moments(layer_2, [0]) # [0] gives the axis i.e the column wise mean and variance.\n",
    "    \n",
    "    # Parameters for batch normalization\n",
    "    scale_2 = tf.Variable(tf.ones([128]))\n",
    "    beta_2 = tf.Variable(tf.zeros([128]))\n",
    "    \n",
    "    # Apply batch normalization now..\n",
    "    layer_2 = tf.nn.batch_normalization(layer_2, mean_2, var_2, beta_2, scale_2, epsilon)\n",
    "    layer_2 = tf.nn.sigmoid(layer_2)\n",
    "    \n",
    "    #____________________________________________________________________________________________________________\n",
    "    \n",
    "    out_layer = tf.matmul(layer_2, weights['out']) + biases['out'] # (layer_2 * weights['out']) + biases['out']    \n",
    "    out_layer = tf.nn.sigmoid(out_layer)\n",
    "\n",
    "    return out_layer"
   ]
  },
  {
   "cell_type": "code",
   "execution_count": 30,
   "metadata": {},
   "outputs": [
    {
     "name": "stderr",
     "output_type": "stream",
     "text": [
      "100%|██████████████████████████████████████████████████████████████████████████████████| 55/55 [00:33<00:00,  1.71it/s]\n"
     ]
    },
    {
     "name": "stdout",
     "output_type": "stream",
     "text": [
      "Epoch:  01   Train error=1.689782273   Test error=1.687199877\n"
     ]
    },
    {
     "name": "stderr",
     "output_type": "stream",
     "text": [
      "100%|██████████████████████████████████████████████████████████████████████████████████| 55/55 [00:32<00:00,  1.70it/s]\n"
     ]
    },
    {
     "name": "stdout",
     "output_type": "stream",
     "text": [
      "Epoch:  02   Train error=1.544795979   Test error=1.547247403\n"
     ]
    },
    {
     "name": "stderr",
     "output_type": "stream",
     "text": [
      "100%|██████████████████████████████████████████████████████████████████████████████████| 55/55 [00:32<00:00,  1.71it/s]\n"
     ]
    },
    {
     "name": "stdout",
     "output_type": "stream",
     "text": [
      "Epoch:  03   Train error=1.508700791   Test error=1.514486087\n"
     ]
    },
    {
     "name": "stderr",
     "output_type": "stream",
     "text": [
      "100%|██████████████████████████████████████████████████████████████████████████████████| 55/55 [00:32<00:00,  1.70it/s]\n"
     ]
    },
    {
     "name": "stdout",
     "output_type": "stream",
     "text": [
      "Epoch:  04   Train error=1.492631331   Test error=1.500526886\n"
     ]
    },
    {
     "name": "stderr",
     "output_type": "stream",
     "text": [
      "100%|██████████████████████████████████████████████████████████████████████████████████| 55/55 [00:32<00:00,  1.71it/s]\n"
     ]
    },
    {
     "name": "stdout",
     "output_type": "stream",
     "text": [
      "Epoch:  05   Train error=1.484061813   Test error=1.493623075\n"
     ]
    },
    {
     "name": "stderr",
     "output_type": "stream",
     "text": [
      "100%|██████████████████████████████████████████████████████████████████████████████████| 55/55 [00:32<00:00,  1.70it/s]\n"
     ]
    },
    {
     "name": "stdout",
     "output_type": "stream",
     "text": [
      "Epoch:  06   Train error=1.478617354   Test error=1.489561675\n"
     ]
    },
    {
     "name": "stderr",
     "output_type": "stream",
     "text": [
      "100%|██████████████████████████████████████████████████████████████████████████████████| 55/55 [00:32<00:00,  1.67it/s]\n"
     ]
    },
    {
     "name": "stdout",
     "output_type": "stream",
     "text": [
      "Epoch:  07   Train error=1.475865873   Test error=1.487951961\n"
     ]
    },
    {
     "name": "stderr",
     "output_type": "stream",
     "text": [
      "100%|██████████████████████████████████████████████████████████████████████████████████| 55/55 [00:32<00:00,  1.71it/s]\n"
     ]
    },
    {
     "name": "stdout",
     "output_type": "stream",
     "text": [
      "Epoch:  08   Train error=1.472365538   Test error=1.485151503\n"
     ]
    },
    {
     "name": "stderr",
     "output_type": "stream",
     "text": [
      "100%|██████████████████████████████████████████████████████████████████████████████████| 55/55 [00:33<00:00,  1.68it/s]\n"
     ]
    },
    {
     "name": "stdout",
     "output_type": "stream",
     "text": [
      "Epoch:  09   Train error=1.470504119   Test error=1.484122807\n"
     ]
    },
    {
     "name": "stderr",
     "output_type": "stream",
     "text": [
      "100%|██████████████████████████████████████████████████████████████████████████████████| 55/55 [00:32<00:00,  1.71it/s]\n"
     ]
    },
    {
     "name": "stdout",
     "output_type": "stream",
     "text": [
      "Epoch:  10   Train error=1.469554630   Test error=1.483586435\n"
     ]
    },
    {
     "name": "stderr",
     "output_type": "stream",
     "text": [
      "100%|██████████████████████████████████████████████████████████████████████████████████| 55/55 [00:32<00:00,  1.70it/s]\n"
     ]
    },
    {
     "name": "stdout",
     "output_type": "stream",
     "text": [
      "Epoch:  11   Train error=1.468223960   Test error=1.482943351\n"
     ]
    },
    {
     "name": "stderr",
     "output_type": "stream",
     "text": [
      "100%|██████████████████████████████████████████████████████████████████████████████████| 55/55 [00:32<00:00,  1.70it/s]\n"
     ]
    },
    {
     "name": "stdout",
     "output_type": "stream",
     "text": [
      "Epoch:  12   Train error=1.467051736   Test error=1.482403705\n"
     ]
    },
    {
     "name": "stderr",
     "output_type": "stream",
     "text": [
      "100%|██████████████████████████████████████████████████████████████████████████████████| 55/55 [00:32<00:00,  1.68it/s]\n"
     ]
    },
    {
     "name": "stdout",
     "output_type": "stream",
     "text": [
      "Epoch:  13   Train error=1.466059936   Test error=1.481347101\n"
     ]
    },
    {
     "name": "stderr",
     "output_type": "stream",
     "text": [
      "100%|██████████████████████████████████████████████████████████████████████████████████| 55/55 [00:32<00:00,  1.70it/s]\n"
     ]
    },
    {
     "name": "stdout",
     "output_type": "stream",
     "text": [
      "Epoch:  14   Train error=1.465451371   Test error=1.481808628\n"
     ]
    },
    {
     "name": "stderr",
     "output_type": "stream",
     "text": [
      "100%|██████████████████████████████████████████████████████████████████████████████████| 55/55 [00:32<00:00,  1.68it/s]\n"
     ]
    },
    {
     "name": "stdout",
     "output_type": "stream",
     "text": [
      "Epoch:  15   Train error=1.464852522   Test error=1.481599875\n",
      "Accuracy :  0.981\n"
     ]
    }
   ],
   "source": [
    "# Get predictions\n",
    "predictions = BatchNormalizedPerceptron(X, weights, biases)\n",
    "\n",
    "# Calculate Multiclass Logistsics Loss using labels and predictions\n",
    "loss = tf.reduce_mean(tf.nn.softmax_cross_entropy_with_logits_v2(logits=predictions, labels=Y_true))\n",
    "\n",
    "# Reduce the loss using AdamOptimizer..\n",
    "optimizer = tf.train.AdamOptimizer(learning_rate=0.01).minimize(loss)\n",
    "\n",
    "with tf.Session() as sess:\n",
    "    # This is similar to declaring variables to be used.\n",
    "    sess.run(tf.global_variables_initializer())\n",
    "    \n",
    "    # For plotting we store error for train and test for each epoch\n",
    "    train_error = []\n",
    "    test_error = []\n",
    "    epoch_counter = []\n",
    "    # Select batch size and compute total number of batches in the epoch.\n",
    "    batch_size = 1000\n",
    "    total_batches = int(mnist.train.num_examples/batch_size)\n",
    "    \n",
    "    # Define number of epochs.\n",
    "    num_epochs = 15\n",
    "    \n",
    "    \n",
    "    for epoch in range(num_epochs):\n",
    "        train_avg_cost = 0.0\n",
    "        test_avg_cost = 0.0\n",
    "        batchnum = 0\n",
    "        for i in tqdm(range(total_batches)):\n",
    "            batch_x, batch_y = mnist.train.next_batch(batch_size)\n",
    "            # Run the optimizer for this batch calculate errors and store in the list. It also returns train error (loss)\n",
    "            sess.run(optimizer, feed_dict={X: batch_x, Y_true: batch_y})\n",
    "            loss_batch = sess.run(loss, feed_dict={X: batch_x, Y_true: batch_y})\n",
    "            train_avg_cost += loss_batch/total_batches\n",
    "            \n",
    "            # Compute loss for test set\n",
    "            loss_test = sess.run(loss, feed_dict={X: mnist.test.images, Y_true: mnist.test.labels})\n",
    "            test_avg_cost += loss_test/total_batches\n",
    "            \n",
    "        if(epoch % 1 == 0):\n",
    "            print(\"Epoch: \", \"%02d\" % (epoch+1),\"  Train error={:.9f}\".format(train_avg_cost),\"  Test error={:.9f}\".format(test_avg_cost))\n",
    "        # Append losses for this current epoch\n",
    "        train_error.append(train_avg_cost)\n",
    "        test_error.append(test_avg_cost)\n",
    "        epoch_counter.append(epoch)\n",
    "        \n",
    "    # Get final accuracy on test after training ...\n",
    "    l1_w = weights['h1'].eval()\n",
    "    l2_w = weights['h2'].eval()\n",
    "    l3_w = weights['out'].eval()\n",
    "    \n",
    "    correct_predictions = tf.equal( tf.argmax(predictions, 1), tf.argmax(Y_true, 1) )\n",
    "    accuracy = tf.reduce_mean( tf.cast(correct_predictions, tf.float32) )\n",
    "    # accuracy.eval is similar to sess.run(accuracy)\n",
    "    print(\"Accuracy : \", accuracy.eval(feed_dict={X: mnist.test.images, Y_true: mnist.test.labels}) )\n",
    "    sess.close()"
   ]
  },
  {
   "cell_type": "code",
   "execution_count": 31,
   "metadata": {},
   "outputs": [
    {
     "name": "stderr",
     "output_type": "stream",
     "text": [
      "C:\\Users\\Prakhar\\Anaconda3\\lib\\site-packages\\scipy\\stats\\stats.py:1713: FutureWarning: Using a non-tuple sequence for multidimensional indexing is deprecated; use `arr[tuple(seq)]` instead of `arr[seq]`. In the future this will be interpreted as an array index, `arr[np.array(seq)]`, which will result either in an error or a different result.\n",
      "  return np.add.reduce(sorted[indexer] * weights, axis=axis) / sumval\n"
     ]
    },
    {
     "data": {
      "image/png": "[encoded data removed]",
      "text/plain": [
       "<Figure size 1080x360 with 3 Axes>"
      ]
     },
     "metadata": {},
     "output_type": "display_data"
    }
   ],
   "source": [
    "l1_w = l1_w.flatten().reshape(-1, 1)\n",
    "l2_w = l2_w.flatten().reshape(-1, 1)\n",
    "l3_w = l3_w.flatten().reshape(-1, 1)\n",
    "\n",
    "fig, (ax1, ax2, ax3) = plt.subplots(nrows=1, ncols=3, figsize=(15,5))\n",
    "ax1.set_title(\"Layer 1 Matrix Weight\")\n",
    "sns.violinplot(y=l1_w, color = 'b', ax=ax1)\n",
    "\n",
    "ax2.set_title(\"Layer 2 Matrix Weight\")\n",
    "sns.violinplot(y=l2_w, color = 'r', ax=ax2)\n",
    "\n",
    "ax3.set_title(\"Layer 3 Matrix Weight\")\n",
    "sns.violinplot(y=l3_w, color = 'y', ax=ax3)\n",
    "\n",
    "plt.show()"
   ]
  },
  {
   "cell_type": "markdown",
   "metadata": {},
   "source": [
    "### D) MLP with dropout :\n",
    "\n",
    "** Same architecture as above **"
   ]
  },
  {
   "cell_type": "code",
   "execution_count": 27,
   "metadata": {},
   "outputs": [],
   "source": [
    "weights = {\n",
    "    'h1': tf.Variable(tf.random_normal([784, 512],stddev=0.039, mean=0)),    #784x512 # sqrt(2/(784+512)) = 0.039\n",
    "    'h2': tf.Variable(tf.random_normal([512, 128],stddev=0.055, mean=0)), #512x128 # sqrt(2/(512+128)) = 0.055\n",
    "    'out': tf.Variable(tf.random_normal([128, 10],stddev=0.120, mean=0))  #128x10\n",
    "}\n",
    "\n",
    "biases = {\n",
    "    'b1': tf.Variable(tf.random_normal([512])),             #512x1\n",
    "    'b2': tf.Variable(tf.random_normal([128])),             #128x1\n",
    "    'out': tf.Variable(tf.random_normal([10]))              #10x1\n",
    "}"
   ]
  },
  {
   "cell_type": "code",
   "execution_count": 28,
   "metadata": {},
   "outputs": [],
   "source": [
    "def DropoutMLP(X, weights, biases):\n",
    "    # Using relu activation function..\n",
    "    layer_1 = tf.nn.relu( tf.add( tf.matmul(X, weights['h1']) , biases['b1'] ) )\n",
    "    # Adding dropout for layer 1 neurons..\n",
    "    layer_1 = tf.nn.dropout(layer_1, 0.75)\n",
    "    \n",
    "    layer_2 = tf.nn.relu( tf.add( tf.matmul(layer_1, weights['h2']) , biases['b2'] ) )\n",
    "    layer_2 = tf.nn.dropout(layer_2, 0.75)\n",
    "    \n",
    "    # This time lets use a softmax layer to get probabilities..\n",
    "    layer_3 = tf.nn.softmax( tf.add( tf.matmul(layer_2, weights['out']) , biases['out'] ) )\n",
    "    return layer_3"
   ]
  },
  {
   "cell_type": "code",
   "execution_count": 29,
   "metadata": {},
   "outputs": [
    {
     "name": "stderr",
     "output_type": "stream",
     "text": [
      "100%|██████████████████████████████████████████████████████████████████████████████████| 55/55 [00:35<00:00,  1.40it/s]\n"
     ]
    },
    {
     "name": "stdout",
     "output_type": "stream",
     "text": [
      "Epoch:  01   Train error=1.749271458   Test error=1.747600618\n"
     ]
    },
    {
     "name": "stderr",
     "output_type": "stream",
     "text": [
      "100%|██████████████████████████████████████████████████████████████████████████████████| 55/55 [00:30<00:00,  1.82it/s]\n"
     ]
    },
    {
     "name": "stdout",
     "output_type": "stream",
     "text": [
      "Epoch:  02   Train error=1.595762897   Test error=1.594898610\n"
     ]
    },
    {
     "name": "stderr",
     "output_type": "stream",
     "text": [
      "100%|██████████████████████████████████████████████████████████████████████████████████| 55/55 [00:31<00:00,  1.37it/s]\n"
     ]
    },
    {
     "name": "stdout",
     "output_type": "stream",
     "text": [
      "Epoch:  03   Train error=1.523376285   Test error=1.525893619\n"
     ]
    },
    {
     "name": "stderr",
     "output_type": "stream",
     "text": [
      "100%|██████████████████████████████████████████████████████████████████████████████████| 55/55 [00:33<00:00,  1.75it/s]\n"
     ]
    },
    {
     "name": "stdout",
     "output_type": "stream",
     "text": [
      "Epoch:  04   Train error=1.515236523   Test error=1.518281031\n"
     ]
    },
    {
     "name": "stderr",
     "output_type": "stream",
     "text": [
      "100%|██████████████████████████████████████████████████████████████████████████████████| 55/55 [00:31<00:00,  1.75it/s]\n"
     ]
    },
    {
     "name": "stdout",
     "output_type": "stream",
     "text": [
      "Epoch:  05   Train error=1.508627278   Test error=1.513133064\n"
     ]
    },
    {
     "name": "stderr",
     "output_type": "stream",
     "text": [
      "100%|██████████████████████████████████████████████████████████████████████████████████| 55/55 [00:35<00:00,  1.65it/s]\n"
     ]
    },
    {
     "name": "stdout",
     "output_type": "stream",
     "text": [
      "Epoch:  06   Train error=1.507210814   Test error=1.510765253\n"
     ]
    },
    {
     "name": "stderr",
     "output_type": "stream",
     "text": [
      "100%|██████████████████████████████████████████████████████████████████████████████████| 55/55 [00:34<00:00,  1.83it/s]\n"
     ]
    },
    {
     "name": "stdout",
     "output_type": "stream",
     "text": [
      "Epoch:  07   Train error=1.505006732   Test error=1.509354093\n"
     ]
    },
    {
     "name": "stderr",
     "output_type": "stream",
     "text": [
      "100%|██████████████████████████████████████████████████████████████████████████████████| 55/55 [00:30<00:00,  1.62it/s]\n"
     ]
    },
    {
     "name": "stdout",
     "output_type": "stream",
     "text": [
      "Epoch:  08   Train error=1.503105887   Test error=1.507226699\n"
     ]
    },
    {
     "name": "stderr",
     "output_type": "stream",
     "text": [
      "100%|██████████████████████████████████████████████████████████████████████████████████| 55/55 [00:35<00:00,  1.73it/s]\n"
     ]
    },
    {
     "name": "stdout",
     "output_type": "stream",
     "text": [
      "Epoch:  09   Train error=1.504087075   Test error=1.508119529\n"
     ]
    },
    {
     "name": "stderr",
     "output_type": "stream",
     "text": [
      "100%|██████████████████████████████████████████████████████████████████████████████████| 55/55 [00:31<00:00,  1.68it/s]\n"
     ]
    },
    {
     "name": "stdout",
     "output_type": "stream",
     "text": [
      "Epoch:  10   Train error=1.505371946   Test error=1.507926442\n"
     ]
    },
    {
     "name": "stderr",
     "output_type": "stream",
     "text": [
      "100%|██████████████████████████████████████████████████████████████████████████████████| 55/55 [00:35<00:00,  1.69it/s]\n"
     ]
    },
    {
     "name": "stdout",
     "output_type": "stream",
     "text": [
      "Epoch:  11   Train error=1.502822347   Test error=1.507147982\n"
     ]
    },
    {
     "name": "stderr",
     "output_type": "stream",
     "text": [
      "100%|██████████████████████████████████████████████████████████████████████████████████| 55/55 [00:31<00:00,  1.80it/s]\n"
     ]
    },
    {
     "name": "stdout",
     "output_type": "stream",
     "text": [
      "Epoch:  12   Train error=1.505656154   Test error=1.511957145\n"
     ]
    },
    {
     "name": "stderr",
     "output_type": "stream",
     "text": [
      "100%|██████████████████████████████████████████████████████████████████████████████████| 55/55 [00:33<00:00,  1.56it/s]\n"
     ]
    },
    {
     "name": "stdout",
     "output_type": "stream",
     "text": [
      "Epoch:  13   Train error=1.505537137   Test error=1.509654353\n"
     ]
    },
    {
     "name": "stderr",
     "output_type": "stream",
     "text": [
      "100%|██████████████████████████████████████████████████████████████████████████████████| 55/55 [00:33<00:00,  1.82it/s]\n"
     ]
    },
    {
     "name": "stdout",
     "output_type": "stream",
     "text": [
      "Epoch:  14   Train error=1.504800031   Test error=1.509137689\n"
     ]
    },
    {
     "name": "stderr",
     "output_type": "stream",
     "text": [
      "100%|██████████████████████████████████████████████████████████████████████████████████| 55/55 [00:31<00:00,  1.83it/s]\n"
     ]
    },
    {
     "name": "stdout",
     "output_type": "stream",
     "text": [
      "Epoch:  15   Train error=1.503679865   Test error=1.508239018\n",
      "Accuracy :  0.9534\n"
     ]
    }
   ],
   "source": [
    "# Get predictions\n",
    "predictions = DropoutMLP(X, weights, biases)\n",
    "\n",
    "# Calculate Multiclass Logistsics Loss using labels and predictions\n",
    "loss = tf.reduce_mean(tf.nn.softmax_cross_entropy_with_logits_v2(logits=predictions, labels=Y_true))\n",
    "\n",
    "# Reduce the loss using AdamOptimizer..\n",
    "optimizer = tf.train.AdamOptimizer(learning_rate=0.01).minimize(loss)\n",
    "\n",
    "with tf.Session() as sess:\n",
    "    # This is similar to declaring variables to be used.\n",
    "    sess.run(tf.global_variables_initializer())\n",
    "    \n",
    "    # For plotting we store error for train and test for each epoch\n",
    "    train_error = []\n",
    "    test_error = []\n",
    "    epoch_counter = []\n",
    "    # Select batch size and compute total number of batches in the epoch.\n",
    "    batch_size = 1000\n",
    "    total_batches = int(mnist.train.num_examples/batch_size)\n",
    "    \n",
    "    # Define number of epochs.\n",
    "    num_epochs = 15\n",
    "    \n",
    "    \n",
    "    for epoch in range(num_epochs):\n",
    "        train_avg_cost = 0.0\n",
    "        test_avg_cost = 0.0\n",
    "        batchnum = 0\n",
    "        for i in tqdm(range(total_batches)):\n",
    "            batch_x, batch_y = mnist.train.next_batch(batch_size)\n",
    "            # Run the optimizer for this batch calculate errors and store in the list. It also returns train error (loss)\n",
    "            sess.run(optimizer, feed_dict={X: batch_x, Y_true: batch_y})\n",
    "            loss_batch = sess.run(loss, feed_dict={X: batch_x, Y_true: batch_y})\n",
    "            train_avg_cost += loss_batch/total_batches\n",
    "            \n",
    "            # Compute loss for test set\n",
    "            loss_test = sess.run(loss, feed_dict={X: mnist.test.images, Y_true: mnist.test.labels})\n",
    "            test_avg_cost += loss_test/total_batches\n",
    "            \n",
    "        if(epoch % 1 == 0):\n",
    "            print(\"Epoch: \", \"%02d\" % (epoch+1),\"  Train error={:.9f}\".format(train_avg_cost),\"  Test error={:.9f}\".format(test_avg_cost))\n",
    "        # Append losses for this current epoch\n",
    "        train_error.append(train_avg_cost)\n",
    "        test_error.append(test_avg_cost)\n",
    "        epoch_counter.append(epoch)\n",
    "        \n",
    "    # Get final accuracy on test after training ...\n",
    "    l1_w = weights['h1'].eval()\n",
    "    l2_w = weights['h2'].eval()\n",
    "    l3_w = weights['out'].eval()\n",
    "    \n",
    "    correct_predictions = tf.equal( tf.argmax(predictions, 1), tf.argmax(Y_true, 1) )\n",
    "    accuracy = tf.reduce_mean( tf.cast(correct_predictions, tf.float32) )\n",
    "    # accuracy.eval is similar to sess.run(accuracy)\n",
    "    print(\"Accuracy : \", accuracy.eval(feed_dict={X: mnist.test.images, Y_true: mnist.test.labels}) )\n",
    "    sess.close()"
   ]
  },
  {
   "cell_type": "code",
   "execution_count": 30,
   "metadata": {},
   "outputs": [
    {
     "name": "stderr",
     "output_type": "stream",
     "text": [
      "C:\\Users\\Prakhar\\Anaconda3\\lib\\site-packages\\scipy\\stats\\stats.py:1713: FutureWarning: Using a non-tuple sequence for multidimensional indexing is deprecated; use `arr[tuple(seq)]` instead of `arr[seq]`. In the future this will be interpreted as an array index, `arr[np.array(seq)]`, which will result either in an error or a different result.\n",
      "  return np.add.reduce(sorted[indexer] * weights, axis=axis) / sumval\n"
     ]
    },
    {
     "data": {
      "image/png": "[encoded data removed]",
      "text/plain": [
       "<Figure size 1080x360 with 3 Axes>"
      ]
     },
     "metadata": {},
     "output_type": "display_data"
    }
   ],
   "source": [
    "l1_w = l1_w.flatten().reshape(-1, 1)\n",
    "l2_w = l2_w.flatten().reshape(-1, 1)\n",
    "l3_w = l3_w.flatten().reshape(-1, 1)\n",
    "\n",
    "fig, (ax1, ax2, ax3) = plt.subplots(nrows=1, ncols=3, figsize=(15,5))\n",
    "ax1.set_title(\"Layer 1 Matrix Weight\")\n",
    "sns.violinplot(y=l1_w, color = 'b', ax=ax1)\n",
    "\n",
    "ax2.set_title(\"Layer 2 Matrix Weight\")\n",
    "sns.violinplot(y=l2_w, color = 'r', ax=ax2)\n",
    "\n",
    "ax3.set_title(\"Layer 3 Matrix Weight\")\n",
    "sns.violinplot(y=l3_w, color = 'y', ax=ax3)\n",
    "\n",
    "plt.show()"
   ]
  }
 ],
 "metadata": {
  "kernelspec": {
   "display_name": "Python [conda root]",
   "language": "python",
   "name": "conda-root-py"
  },
  "language_info": {
   "codemirror_mode": {
    "name": "ipython",
    "version": 3
   },
   "file_extension": ".py",
   "mimetype": "text/x-python",
   "name": "python",
   "nbconvert_exporter": "python",
   "pygments_lexer": "ipython3",
   "version": "3.6.6"
  }
 },
 "nbformat": 4,
 "nbformat_minor": 2
}
