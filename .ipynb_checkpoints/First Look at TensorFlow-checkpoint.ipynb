{
 "cells": [
  {
   "cell_type": "markdown",
   "metadata": {},
   "source": [
    "# First Look at TensorFlow :\n",
    "\n",
    "> TensorFlow is a mathematical software and an open source framework for deep learning developed by the Google Brain Team in 2011. It was developed for research purposes and is still mainly used in experimenting new things but is also widely popular for developing solutions to real world problems.\n",
    "\n",
    "### What the notebook contains :\n",
    "\n",
    "1. Overview of TensorFlow.\n",
    "2. TensorFlow computation graph.\n",
    "3. TensorFlow code structure.\n",
    "4. TensorFlow data model.\n",
    "5. Visualizing computation graph using TensorBoard.\n",
    "6. LinearRegression using TensorBoard."
   ]
  },
  {
   "cell_type": "markdown",
   "metadata": {},
   "source": [
    "## 1. Overview :\n",
    "\n",
    "1. TensorFlow is an open source framework from Google for scientific and numerical computation using data flow graphs that stand for TensorFlow's execution model.\n",
    "2.  The data flow graphs used in TensorFlow help ML experts to perform more advanced and intensive training on their data to develop DL and predictive analytics models.\n",
    "3. TensorFlow includes operations that are performed by neural networks on multidimensional data arrays, that is, flow of tensors. Nodes in a flow graph correspond to mathematical operations, that is, addition, multiplication, matrix factorization, and so on; whereas, edges correspond to tensors that ensure communication between edges and nodes – that is, data flow and control flow.\n",
    "4. TensorFlow can work with CPU's as well as with GPU, but computation with GPU is much faster than on a CPU as the work can be parallelized on many cores of the GPU.\n",
    "5. If TensorFlow can access GPU devices, it will automatically distribute computations to multiple devices via a greedy process.\n",
    "\n",
    "Main Features of TensorFlow are :\n",
    "\n",
    "1. Faster Computing.\n",
    "2. Flexibility.\n",
    "3. Portability.\n",
    "4. Production-ready at scale.\n",
    "5. Support of Online Community."
   ]
  },
  {
   "cell_type": "markdown",
   "metadata": {},
   "source": [
    "## 2. TensorFlow omputation Graph :\n",
    "\n",
    "A Program in tensorflow is not the same as conventional program written in python. A tensorflow program consists of a computation graph which describes the series of operations that lead to the final result. Due to this reason we must first learn to create a computational graph before executing it. In tensorflow every calculations is done by the C++ engine which means python API is just a wrapper. Since TensorFlow uses C++, the logic of C++ is somewhat present here too, like declare variables, initialize them and then use them.\n",
    "\n",
    "A computational Graph consists of two things - \n",
    "1. Nodes, representing operations to be done.\n",
    "2. A set of directed ars, each representing the data on which the operation is to be performed.\n",
    "\n",
    "TensorFlow has two types of edges - \n",
    "1. Normal - Carry data from one node to another.\n",
    "2. Special - Control Dependency like operation X must be executed before Y.\n",
    "\n",
    "Example of computational graph :\n",
    "\n",
    "<img src=\"compgraph.PNG\">\n",
    "\n",
    "##### Image Source : http://puremonkey2010.blogspot.com/2017/06/s-t-ch9-up-and-running-with-tensorflow.html\n",
    "\n",
    "The operations are defined by tensflow.Operation and edges(representing data) by tensorflow.tensor . \n",
    "A tensor can be thought of as a n-dimensional array (n >= 1).\n",
    "A node typically takes in one or more tensors as input and the output is also a tensor.\n",
    "\n",
    "After a Computational Graph has been created a session is to be started to perform operations.\n",
    "\n",
    "The main components of a Tensorflow graph :\n",
    "\n",
    "1. Variables : Used to contain values for the weights and biases between TensorFlow sessions.\n",
    "2. Tensors : A set of values that pass between nodes to perform operations.\n",
    "3. PlaceHolders : Used to send data between the program and the TensorFlow graph.\n",
    "4. Session : A session is invoked when the graph is to be executed.\n",
    "\n",
    "The program we write is considered as a client and from this client the computational graph is created symbolically in C/C++ or python and then the code can ask the tensorflow to execute the graph."
   ]
  },
  {
   "cell_type": "markdown",
   "metadata": {},
   "source": [
    "## 3. TensorFlow Code Structure :\n",
    "\n",
    "Tensorflow program is generally divided into 4 phases after you have imported the library: \n",
    "\n",
    "1. Construction of Computational Graph.\n",
    "2. Creation of a session.\n",
    "3. Running a session.\n",
    "4. Computation.\n",
    "\n",
    "#### Now a few examples :"
   ]
  },
  {
   "cell_type": "code",
   "execution_count": 1,
   "metadata": {},
   "outputs": [
    {
     "name": "stderr",
     "output_type": "stream",
     "text": [
      "C:\\Users\\Prakhar\\Anaconda3\\lib\\site-packages\\h5py\\__init__.py:36: FutureWarning: Conversion of the second argument of issubdtype from `float` to `np.floating` is deprecated. In future, it will be treated as `np.float64 == np.dtype(float).type`.\n",
      "  from ._conv import register_converters as _register_converters\n"
     ]
    }
   ],
   "source": [
    "import numpy as np\n",
    "import pandas as pd\n",
    "import matplotlib.pyplot as plt\n",
    "import seaborn as sns\n",
    "import scipy\n",
    "import tensorflow as tf"
   ]
  },
  {
   "cell_type": "markdown",
   "metadata": {},
   "source": [
    "#### 1. Multiplication of Two Numbers :"
   ]
  },
  {
   "cell_type": "code",
   "execution_count": 2,
   "metadata": {},
   "outputs": [
    {
     "name": "stdout",
     "output_type": "stream",
     "text": [
      "Multiplication of 5 and 10 gives :  50\n"
     ]
    }
   ],
   "source": [
    "# tf.Constant specifies a constant value which cannot be changed in the tensorflow program.\n",
    "x = tf.constant(5) # Operand 1 (1d tensor)\n",
    "y = tf.constant(10) # Operand 2 (1d tensor)\n",
    "\n",
    "z = tf.multiply(x, y) # Define Operation\n",
    "\n",
    "# Now we create a session\n",
    "ses = tf.Session()\n",
    "\n",
    "# Now we execute the only operation defined that is z.\n",
    "output = ses.run(z) # Execute operation z\n",
    "\n",
    "# Close the session\n",
    "ses.close()\n",
    "\n",
    "# Display output\n",
    "print (\"Multiplication of 5 and 10 gives : \", output)"
   ]
  },
  {
   "cell_type": "markdown",
   "metadata": {},
   "source": [
    "The above program uses constant values, we can use pass the values which are taken as input from the user, say these values are stored in x and y , Now x and y are normal variables not tensorflow tensors.  We pass these values to tensor variable using placeholers. Placeholders are supplied with values when the graph is to be executed.\n",
    "\n",
    "Modification of above program to use placeholders "
   ]
  },
  {
   "cell_type": "code",
   "execution_count": 4,
   "metadata": {},
   "outputs": [
    {
     "name": "stdout",
     "output_type": "stream",
     "text": [
      "50.0\n"
     ]
    }
   ],
   "source": [
    "x = 5 # User input\n",
    "y = 10 # User input\n",
    "output = 0\n",
    "with tf.Session() as ses:\n",
    "    # PlaceHolder syntax - tf.placeholder(datatype, shape(optional, default is a single value), variable name),\n",
    "    # similar to declaring variable in C/C++.\n",
    "    x_tensor = tf.placeholder(tf.float32, name=\"x_tensor\")\n",
    "    y_tensor = tf.placeholder(tf.float32, name=\"y_tensor\")\n",
    "    output_tensor = tf.multiply(x_tensor, y_tensor)\n",
    "    # Provide values when running, feed_dict = {} is a dictionary which maps tensorflow placeholder name with normal var.\n",
    "    output = ses.run(output_tensor, feed_dict = {x_tensor : x, y_tensor : y})\n",
    "\n",
    "# We dont need to close session when using with keyword.\n",
    "print(output)"
   ]
  },
  {
   "cell_type": "code",
   "execution_count": null,
   "metadata": {},
   "outputs": [],
   "source": []
  }
 ],
 "metadata": {
  "kernelspec": {
   "display_name": "Python [conda root]",
   "language": "python",
   "name": "conda-root-py"
  },
  "language_info": {
   "codemirror_mode": {
    "name": "ipython",
    "version": 3
   },
   "file_extension": ".py",
   "mimetype": "text/x-python",
   "name": "python",
   "nbconvert_exporter": "python",
   "pygments_lexer": "ipython3",
   "version": "3.6.6"
  }
 },
 "nbformat": 4,
 "nbformat_minor": 2
}
