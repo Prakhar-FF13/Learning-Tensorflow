{
 "cells": [
  {
   "cell_type": "markdown",
   "metadata": {},
   "source": [
    "# First Look at TensorFlow :\n",
    "\n",
    "> TensorFlow is a mathematical software and an open source framework for deep learning developed by the Google Brain Team in 2011. It was developed for research purposes and is still mainly used in experimenting new things but is also widely popular for developing solutions to real world problems.\n",
    "\n",
    "### What the notebook contains :\n",
    "\n",
    "1. Overview of TensorFlow.\n",
    "2. TensorFlow computation graph.\n",
    "3. TensorFlow code structure.\n",
    "4. TensorFlow data model.\n",
    "5. Visualizing computation graph using TensorBoard.\n",
    "6. LinearRegression using TensorBoard."
   ]
  },
  {
   "cell_type": "markdown",
   "metadata": {},
   "source": [
    "## 1. Overview :\n",
    "\n",
    "1. TensorFlow is an open source framework from Google for scientific and numerical computation using data flow graphs that stand for TensorFlow's execution model.\n",
    "2.  The data flow graphs used in TensorFlow help ML experts to perform more advanced and intensive training on their data to develop DL and predictive analytics models.\n",
    "3. TensorFlow includes operations that are performed by neural networks on multidimensional data arrays, that is, flow of tensors. Nodes in a flow graph correspond to mathematical operations, that is, addition, multiplication, matrix factorization, and so on; whereas, edges correspond to tensors that ensure communication between edges and nodes – that is, data flow and control flow.\n",
    "4. TensorFlow can work with CPU's as well as with GPU, but computation with GPU is much faster than on a CPU as the work can be parallelized on many cores of the GPU.\n",
    "5. If TensorFlow can access GPU devices, it will automatically distribute computations to multiple devices via a greedy process.\n",
    "\n",
    "Main Features of TensorFlow are :\n",
    "\n",
    "1. Faster Computing.\n",
    "2. Flexibility.\n",
    "3. Portability.\n",
    "4. Production-ready at scale.\n",
    "5. Support of Online Community."
   ]
  },
  {
   "cell_type": "markdown",
   "metadata": {},
   "source": [
    "## 2. TensorFlow omputation Graph :\n",
    "\n",
    "A Program in tensorflow is not the same as conventional program written in python. A tensorflow program consists of a computation graph which describes the series of operations that lead to the final result. Due to this reason we must first learn to create a computational graph before executing it. In tensorflow every calculations is done by the C++ engine which means python API is just a wrapper. Since TensorFlow uses C++, the logic of C++ is somewhat present here too, like declare variables, initialize them and then use them.\n",
    "\n",
    "A computational Graph consists of two things - \n",
    "1. Nodes, representing operations to be done.\n",
    "2. A set of directed ars, each representing the data on which the operation is to be performed.\n",
    "\n",
    "TensorFlow has two types of edges - \n",
    "1. Normal - Carry data from one node to another.\n",
    "2. Special - Control Dependency like operation X must be executed before Y.\n",
    "\n",
    "Example of computational graph :\n",
    "\n",
    "<img src=\"compgraph.PNG\">\n",
    "\n",
    "##### Image Source : http://puremonkey2010.blogspot.com/2017/06/s-t-ch9-up-and-running-with-tensorflow.html\n",
    "\n",
    "The operations are defined by tensflow.Operation and edges(representing data) by tensorflow.tensor . \n",
    "A tensor can be thought of as a n-dimensional array (n >= 1).\n",
    "A node typically takes in one or more tensors as input and the output is also a tensor.\n",
    "\n",
    "After a Computational Graph has been created a session is to be started to perform operations.\n",
    "\n",
    "The main components of a Tensorflow graph :\n",
    "\n",
    "1. Variables : Used to contain values for the weights and biases between TensorFlow sessions.\n",
    "2. Tensors : A set of values that pass between nodes to perform operations.\n",
    "3. PlaceHolders : Used to send data between the program and the TensorFlow graph.\n",
    "4. Session : A session is invoked when the graph is to be executed.\n",
    "\n",
    "The program we write is considered as a client and from this client the computational graph is created symbolically in C/C++ or python and then the code can ask the tensorflow to execute the graph."
   ]
  },
  {
   "cell_type": "code",
   "execution_count": null,
   "metadata": {},
   "outputs": [],
   "source": []
  }
 ],
 "metadata": {
  "kernelspec": {
   "display_name": "Python [conda root]",
   "language": "python",
   "name": "conda-root-py"
  },
  "language_info": {
   "codemirror_mode": {
    "name": "ipython",
    "version": 3
   },
   "file_extension": ".py",
   "mimetype": "text/x-python",
   "name": "python",
   "nbconvert_exporter": "python",
   "pygments_lexer": "ipython3",
   "version": "3.6.6"
  }
 },
 "nbformat": 4,
 "nbformat_minor": 2
}
